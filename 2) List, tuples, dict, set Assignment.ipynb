{
 "cells": [
  {
   "cell_type": "code",
   "execution_count": 41,
   "id": "ec0716ba",
   "metadata": {},
   "outputs": [],
   "source": [
    "#Questions \n",
    "\n",
    "l = [3,4,5,6,7, [23,456,67,8,78,78], [345,56,87,8,98,9], (234,6657,6), {\"key1\":\"sudh\", 234:[23,45,656]}]"
   ]
  },
  {
   "cell_type": "code",
   "execution_count": 15,
   "id": "260bdc0d",
   "metadata": {},
   "outputs": [
    {
     "name": "stdout",
     "output_type": "stream",
     "text": [
      "[{'key1': 'sudh', 234: [23, 45, 656]}, (234, 6657, 6), [345, 56, 87, 8, 98, 9], [23, 456, 67, 8, 78, 78], 7, 6, 5, 4, 3]\n"
     ]
    }
   ],
   "source": [
    "#1. Try to reverse a list\n",
    "\n",
    "l1=l[::-1]\n",
    "print(l1)"
   ]
  },
  {
   "cell_type": "code",
   "execution_count": 22,
   "id": "9b370f67",
   "metadata": {},
   "outputs": [
    {
     "data": {
      "text/plain": [
       "[23, 45, 656]"
      ]
     },
     "execution_count": 22,
     "metadata": {},
     "output_type": "execute_result"
    }
   ],
   "source": [
    "#2. try to access 234 out of this list\n",
    "\n",
    "l[8][234]"
   ]
  },
  {
   "cell_type": "code",
   "execution_count": 26,
   "id": "ece223e1",
   "metadata": {},
   "outputs": [
    {
     "data": {
      "text/plain": [
       "234"
      ]
     },
     "execution_count": 26,
     "metadata": {},
     "output_type": "execute_result"
    }
   ],
   "source": [
    "l2=list(l[8].keys())\n",
    "l2[1]"
   ]
  },
  {
   "cell_type": "code",
   "execution_count": 28,
   "id": "c38556af",
   "metadata": {},
   "outputs": [
    {
     "data": {
      "text/plain": [
       "456"
      ]
     },
     "execution_count": 28,
     "metadata": {},
     "output_type": "execute_result"
    }
   ],
   "source": [
    "#3 . try to access 456\n",
    "\n",
    "l[5][1]"
   ]
  },
  {
   "cell_type": "code",
   "execution_count": 33,
   "id": "fa97652f",
   "metadata": {},
   "outputs": [
    {
     "name": "stdout",
     "output_type": "stream",
     "text": [
      "[[23, 456, 67, 8, 78, 78], [345, 56, 87, 8, 98, 9]]\n"
     ]
    }
   ],
   "source": [
    "#4. Try to extract only a list collection form list l\n",
    "\n",
    "l3=[]\n",
    "for i in l:\n",
    "    if type(i)==list:\n",
    "        l3.append(i)\n",
    "\n",
    "print(l3)"
   ]
  },
  {
   "cell_type": "code",
   "execution_count": 43,
   "id": "890c5ca5",
   "metadata": {},
   "outputs": [
    {
     "data": {
      "text/plain": [
       "[[23, 456, 67, 8, 78, 78], [345, 56, 87, 8, 98, 9]]"
      ]
     },
     "execution_count": 43,
     "metadata": {},
     "output_type": "execute_result"
    }
   ],
   "source": [
    "#4. Try to extract only a list collection form list l\n",
    "\n",
    "l[5:7]"
   ]
  },
  {
   "cell_type": "code",
   "execution_count": 34,
   "id": "d1e9fec3",
   "metadata": {},
   "outputs": [
    {
     "data": {
      "text/plain": [
       "'sudh'"
      ]
     },
     "execution_count": 34,
     "metadata": {},
     "output_type": "execute_result"
    }
   ],
   "source": [
    "#5. Try to extract \"sudh\"\n",
    "\n",
    "l[8]['key1']"
   ]
  },
  {
   "cell_type": "code",
   "execution_count": 36,
   "id": "a4da9134",
   "metadata": {},
   "outputs": [
    {
     "data": {
      "text/plain": [
       "['key1', 234]"
      ]
     },
     "execution_count": 36,
     "metadata": {},
     "output_type": "execute_result"
    }
   ],
   "source": [
    "#6. Try to list all the keys in dict element avaiable in list\n",
    "\n",
    "list(l[8].keys())"
   ]
  },
  {
   "cell_type": "code",
   "execution_count": 37,
   "id": "f58e8ef8",
   "metadata": {},
   "outputs": [
    {
     "data": {
      "text/plain": [
       "['sudh', [23, 45, 656]]"
      ]
     },
     "execution_count": 37,
     "metadata": {},
     "output_type": "execute_result"
    }
   ],
   "source": [
    "#7. Try to extract all the value element form dict available in list\n",
    "\n",
    "list(l[8].values())"
   ]
  },
  {
   "cell_type": "code",
   "execution_count": null,
   "id": "f9f354d6",
   "metadata": {},
   "outputs": [],
   "source": []
  }
 ],
 "metadata": {
  "kernelspec": {
   "display_name": "Python 3 (ipykernel)",
   "language": "python",
   "name": "python3"
  },
  "language_info": {
   "codemirror_mode": {
    "name": "ipython",
    "version": 3
   },
   "file_extension": ".py",
   "mimetype": "text/x-python",
   "name": "python",
   "nbconvert_exporter": "python",
   "pygments_lexer": "ipython3",
   "version": "3.10.9"
  }
 },
 "nbformat": 4,
 "nbformat_minor": 5
}
