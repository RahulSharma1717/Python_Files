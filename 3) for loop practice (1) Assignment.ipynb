{
 "cells": [
  {
   "cell_type": "code",
   "execution_count": 1,
   "id": "db782452",
   "metadata": {},
   "outputs": [
    {
     "name": "stdout",
     "output_type": "stream",
     "text": [
      "ineuron \n",
      "ineuron ineuron \n",
      "ineuron ineuron ineuron \n",
      "ineuron ineuron ineuron ineuron \n"
     ]
    }
   ],
   "source": [
    "#q1 \n",
    "\n",
    "s='ineuron '\n",
    "for i in range(4):\n",
    "    print((i+1)*s)"
   ]
  },
  {
   "cell_type": "code",
   "execution_count": 21,
   "id": "7f275dd4",
   "metadata": {},
   "outputs": [
    {
     "name": "stdout",
     "output_type": "stream",
     "text": [
      "Please enter how many rows you want to print: 9\n",
      "ineuron \n",
      "ineuron ineuron \n",
      "ineuron ineuron ineuron \n",
      "ineuron ineuron ineuron ineuron \n",
      "ineuron ineuron ineuron ineuron ineuron \n",
      "ineuron ineuron ineuron ineuron ineuron ineuron \n",
      "ineuron ineuron ineuron ineuron ineuron ineuron ineuron \n",
      "ineuron ineuron ineuron ineuron ineuron ineuron ineuron ineuron \n",
      "ineuron ineuron ineuron ineuron ineuron ineuron ineuron ineuron ineuron \n"
     ]
    }
   ],
   "source": [
    "row = int(input(\"Please enter how many rows you want to print: \"))\n",
    "\n",
    "for i in range(row):\n",
    "    print(\"ineuron \"*(i+1))"
   ]
  },
  {
   "cell_type": "code",
   "execution_count": 5,
   "id": "170881e7",
   "metadata": {},
   "outputs": [
    {
     "name": "stdout",
     "output_type": "stream",
     "text": [
      "                  \n",
      "            ineuron      \n",
      "      ineuron      ineuron      \n",
      "ineuron      ineuron      ineuron      \n",
      "      ineuron      ineuron      \n",
      "            ineuron      \n"
     ]
    }
   ],
   "source": [
    "#q2\n",
    "\n",
    "n = 3\n",
    "\n",
    "for i in range(n):\n",
    "    print('      '*(n-i) + 'ineuron      '*(i))\n",
    "for i in range(n):\n",
    "    print('      '*(i) + 'ineuron      '*(n-i))"
   ]
  },
  {
   "cell_type": "code",
   "execution_count": 27,
   "id": "f0a40ba0",
   "metadata": {},
   "outputs": [
    {
     "name": "stdout",
     "output_type": "stream",
     "text": [
      "                                        \n",
      "               ineuron                  \n",
      "          ineuron   ineuron             \n",
      "     ineuron   ineuron   ineuron        \n",
      "          ineuron   ineuron             \n",
      "               ineuron                  \n"
     ]
    }
   ],
   "source": [
    "#q2 using Center function\n",
    "\n",
    "for i in range(6):\n",
    "    if i <= 3:\n",
    "        n = i\n",
    "    else:\n",
    "        n = 6 - i\n",
    "    print((\"ineuron   \"*n).center(40,' '))"
   ]
  },
  {
   "cell_type": "code",
   "execution_count": 28,
   "id": "7055b64e",
   "metadata": {},
   "outputs": [],
   "source": [
    "l = [[1,2,3,4] , (2,3,4,5,6) , (3,4,5,6,7) , set([23,4,5,45,4,4,5,45,45,4,5]) , {'k1' :\"sudh\" , \"k2\" : \"ineuron\",\"k3\":\n",
    "            \"kumar\" , 3:6 , 7:8} , [\"ineuron\" , \"data science \"]]"
   ]
  },
  {
   "cell_type": "code",
   "execution_count": 4,
   "id": "32b7860a",
   "metadata": {},
   "outputs": [
    {
     "name": "stdout",
     "output_type": "stream",
     "text": [
      "[[1, 2, 3, 4], ['ineuron', 'data science ']]\n"
     ]
    }
   ],
   "source": [
    "#q3 : Try to extract all the list entity\n",
    "\n",
    "l1=[]\n",
    "for i in l:\n",
    "    if type(i)==list:\n",
    "        l1.append(i)\n",
    "print(l1)"
   ]
  },
  {
   "cell_type": "code",
   "execution_count": 29,
   "id": "cb78218f",
   "metadata": {},
   "outputs": [
    {
     "name": "stdout",
     "output_type": "stream",
     "text": [
      "[1, 2, 3, 4]\n",
      "['ineuron', 'data science ']\n"
     ]
    }
   ],
   "source": [
    "for i in l:\n",
    "    if type(i)==list:\n",
    "        print(i)"
   ]
  },
  {
   "cell_type": "code",
   "execution_count": 5,
   "id": "1f4653fe",
   "metadata": {},
   "outputs": [
    {
     "name": "stdout",
     "output_type": "stream",
     "text": [
      "[{'k1': 'sudh', 'k2': 'ineuron', 'k3': 'kumar', 3: 6, 7: 8}]\n"
     ]
    }
   ],
   "source": [
    "#q4 : Try to extract all the dict enteties\n",
    "\n",
    "l2=[]\n",
    "for i in l:\n",
    "    if type(i)==dict:\n",
    "        l2.append(i)\n",
    "print(l2)"
   ]
  },
  {
   "cell_type": "code",
   "execution_count": 30,
   "id": "2a51b6f7",
   "metadata": {},
   "outputs": [
    {
     "name": "stdout",
     "output_type": "stream",
     "text": [
      "{'k1': 'sudh', 'k2': 'ineuron', 'k3': 'kumar', 3: 6, 7: 8}\n"
     ]
    }
   ],
   "source": [
    "for i in l:\n",
    "    if type(i)==dict:\n",
    "        print(i)"
   ]
  },
  {
   "cell_type": "code",
   "execution_count": 6,
   "id": "9752f27e",
   "metadata": {},
   "outputs": [
    {
     "name": "stdout",
     "output_type": "stream",
     "text": [
      "[(2, 3, 4, 5, 6), (3, 4, 5, 6, 7)]\n"
     ]
    }
   ],
   "source": [
    "#q5 : Try to extract all the tuples entities\n",
    "\n",
    "l3=[]\n",
    "for i in l:\n",
    "    if type(i)==tuple:\n",
    "        l3.append(i)\n",
    "print(l3)"
   ]
  },
  {
   "cell_type": "code",
   "execution_count": 7,
   "id": "8539b88c",
   "metadata": {},
   "outputs": [
    {
     "name": "stdout",
     "output_type": "stream",
     "text": [
      "[1, 2, 3, 4, 2, 3, 4, 5, 6, 3, 4, 5, 6, 7, 45, 4, 5, 23, 3, 7, 6, 8]\n"
     ]
    }
   ],
   "source": [
    "#q6 : Try to extract all the numerical data it may b a part of dict key and values\n",
    "\n",
    "l4=[]\n",
    "for i in l:\n",
    "    if type(i)==list or type(i)==tuple or type(i)==set:\n",
    "        for j in i:\n",
    "            if type(j)==int:\n",
    "                l4.append(j)\n",
    "    elif type(i)==dict:\n",
    "        for k in i.keys():\n",
    "            if type(k)==int:\n",
    "                l4.append(k)\n",
    "        for m in i.values():\n",
    "            if type(m)==int:\n",
    "                l4.append(m)\n",
    "print(l4)"
   ]
  },
  {
   "cell_type": "code",
   "execution_count": 40,
   "id": "3f0f3dff",
   "metadata": {},
   "outputs": [
    {
     "name": "stdout",
     "output_type": "stream",
     "text": [
      "[1, 2, 3, 4, 2, 3, 4, 5, 6, 3, 4, 5, 6, 7, 45, 4, 5, 23, 3, 7, 6, 8]\n",
      "156\n"
     ]
    }
   ],
   "source": [
    "#q7 : Try to give summation of all the numeric data\n",
    "\n",
    "l4=[]\n",
    "for i in l:\n",
    "    if type(i)==list or type(i)==tuple or type(i)==set:\n",
    "        for j in i:\n",
    "            if type(j)==int:\n",
    "                l4.append(j)\n",
    "    elif type(i)==dict:\n",
    "        for k in i.keys():\n",
    "            if type(k)==int:\n",
    "                l4.append(k)\n",
    "        for m in i.values():\n",
    "            if type(m)==int:\n",
    "                l4.append(m)\n",
    "print(l4)\n",
    "print(sum(l4))"
   ]
  },
  {
   "cell_type": "code",
   "execution_count": 33,
   "id": "091644cf",
   "metadata": {},
   "outputs": [
    {
     "name": "stdout",
     "output_type": "stream",
     "text": [
      "[1, 2, 3, 4, 2, 3, 4, 5, 6, 3, 4, 5, 6, 7, 45, 4, 5, 23, 3, 6, 7, 8]\n"
     ]
    }
   ],
   "source": [
    "l1 = []\n",
    "for i in l:\n",
    "    if type(i) == list or type(i) == tuple or type(i) == set :\n",
    "        for j in i :\n",
    "            if type(j) == int :\n",
    "                l1.append(j)\n",
    "    if type(i) == dict :\n",
    "        for k in i.items() : \n",
    "            for g in k :\n",
    "                if type(g) == int :\n",
    "                    l1.append(g)\n",
    "print(l1)"
   ]
  },
  {
   "cell_type": "code",
   "execution_count": 9,
   "id": "029f1aaa",
   "metadata": {},
   "outputs": [
    {
     "name": "stdout",
     "output_type": "stream",
     "text": [
      "[1, 3, 3, 5, 3, 5, 7, 45, 5, 23, 3, 7]\n"
     ]
    }
   ],
   "source": [
    "#q8 : Try to filter out all the odd values out all numeric data which is a part of a list \n",
    "\n",
    "l5=[]\n",
    "for i in l4:\n",
    "    if i%2!=0:\n",
    "        l5.append(i)\n",
    "        \n",
    "print(l5)"
   ]
  },
  {
   "cell_type": "code",
   "execution_count": 10,
   "id": "57d30524",
   "metadata": {},
   "outputs": [
    {
     "name": "stdout",
     "output_type": "stream",
     "text": [
      "['ineuron', 'ineuron']\n"
     ]
    }
   ],
   "source": [
    "#q9 : Try to extract \"ineruon\" out of this data\n",
    "\n",
    "l = [[1,2,3,4] , (2,3,4,5,6) , (3,4,5,6,7) , set([23,4,5,45,4,4,5,45,45,4,5]) , {'k1' :\"sudh\" , \"k2\" : \"ineuron\",\"k3\":\n",
    "            \"kumar\" , 3:6 , 7:8} , [\"ineuron\" , \"data science \"]]\n",
    "\n",
    "l6=[]\n",
    "for i in l:\n",
    "    if type(i)==list or type(i)==tuple or type(i)==set:\n",
    "        for j in i:\n",
    "            if j=='ineuron':\n",
    "                l6.append(j)\n",
    "    elif type(i)==dict:\n",
    "        for k in i.keys():\n",
    "            if k=='ineuron':\n",
    "                l6.append(k)\n",
    "        for m in i.values():\n",
    "            if m=='ineuron':\n",
    "                l6.append(m)\n",
    "            \n",
    "print(l6)"
   ]
  },
  {
   "cell_type": "code",
   "execution_count": 11,
   "id": "3a482744",
   "metadata": {},
   "outputs": [
    {
     "name": "stdout",
     "output_type": "stream",
     "text": [
      "[1, 2, 3, 4, 2, 3, 4, 5, 6, 3, 4, 5, 6, 7, 45, 4, 5, 23, 'k1', 'k2', 'k3', 3, 7, 'sudh', 'ineuron', 'kumar', 6, 8, 'ineuron', 'data science ']\n"
     ]
    }
   ],
   "source": [
    "#q10 :Try to find out a number of occurances of all the data\n",
    "\n",
    "l7=[]\n",
    "for i in l:\n",
    "    for j in i:\n",
    "        l7.append(j)\n",
    "    if type(i)==dict:\n",
    "        for k in i.values():\n",
    "            l7.append(k)\n",
    "print(l7)"
   ]
  },
  {
   "cell_type": "code",
   "execution_count": 12,
   "id": "7c2e08ad",
   "metadata": {},
   "outputs": [
    {
     "name": "stdout",
     "output_type": "stream",
     "text": [
      "k1 : 1 | 1 : 1 | 2 : 2 | 3 : 4 | 4 : 4 | 5 : 3 | 6 : 3 | 7 : 2 | k2 : 1 | 8 : 1 | ineuron : 2 | data science  : 1 | 45 : 1 | sudh : 1 | 23 : 1 | kumar : 1 | k3 : 1 | "
     ]
    }
   ],
   "source": [
    "for m in set(l7):\n",
    "    print(m , \":\", l7.count(m), end=\" | \")"
   ]
  },
  {
   "cell_type": "code",
   "execution_count": 13,
   "id": "1c3a7702",
   "metadata": {},
   "outputs": [
    {
     "name": "stdout",
     "output_type": "stream",
     "text": [
      "['k1', 'k2', 'k3', 3, 7]\n",
      "5\n"
     ]
    }
   ],
   "source": [
    "#q11 : Try to find out number of keys in dict element\n",
    "\n",
    "l8=[]\n",
    "for i in l:\n",
    "    if type(i)==dict:\n",
    "        for k in i:\n",
    "            l8.append(k)\n",
    "print(l8)\n",
    "print(len(l8))"
   ]
  },
  {
   "cell_type": "code",
   "execution_count": 44,
   "id": "387e5f33",
   "metadata": {},
   "outputs": [
    {
     "name": "stdout",
     "output_type": "stream",
     "text": [
      "5\n"
     ]
    }
   ],
   "source": [
    "for i in l :\n",
    "    if type(i) == dict :\n",
    "        print(len(list(i.keys())))"
   ]
  },
  {
   "cell_type": "code",
   "execution_count": 14,
   "id": "56ca19a2",
   "metadata": {},
   "outputs": [
    {
     "name": "stdout",
     "output_type": "stream",
     "text": [
      "['k1', 'k2', 'k3', 'sudh', 'ineuron', 'kumar', 'ineuron', 'data science ']\n"
     ]
    }
   ],
   "source": [
    "#q12 : Try to filter out all the string data\n",
    "\n",
    "l9=[]\n",
    "for i in l:\n",
    "    for j in i:\n",
    "        if type(j)==str:\n",
    "            l9.append(j)\n",
    "    if type(i)==dict:\n",
    "        for k in i.values():\n",
    "            if type(k)==str:\n",
    "                l9.append(k)\n",
    "print(l9)"
   ]
  },
  {
   "cell_type": "code",
   "execution_count": 15,
   "id": "138dfefc",
   "metadata": {},
   "outputs": [
    {
     "name": "stdout",
     "output_type": "stream",
     "text": [
      "['k1', 'k2', 'k3', 'sudh', 'ineuron', 'kumar', 'ineuron']\n"
     ]
    }
   ],
   "source": [
    "#q13 : Try to Find out alphanum in data\n",
    "\n",
    "l10=[]\n",
    "l11=[]\n",
    "for i in l7:\n",
    "    if type(i)==str:\n",
    "        l10.append(i)\n",
    "\n",
    "for j in l10:\n",
    "    if j.isalnum()==True:\n",
    "        l11.append(j)\n",
    "        \n",
    "print(l11)"
   ]
  },
  {
   "cell_type": "code",
   "execution_count": 45,
   "id": "bce6cd00",
   "metadata": {},
   "outputs": [
    {
     "name": "stdout",
     "output_type": "stream",
     "text": [
      "k1\n",
      "k2\n",
      "k3\n",
      "sudh\n",
      "ineuron\n",
      "kumar\n",
      "ineuron\n"
     ]
    }
   ],
   "source": [
    "for i in l7 :\n",
    "    if type(i) == str :\n",
    "        if i.isalnum() : \n",
    "            print(i)"
   ]
  },
  {
   "cell_type": "code",
   "execution_count": 17,
   "id": "f6ce843f",
   "metadata": {},
   "outputs": [
    {
     "name": "stdout",
     "output_type": "stream",
     "text": [
      "[1, 2, 3, 4, 2, 3, 4, 5, 6, 3, 4, 5, 6, 7, 45, 4, 5, 23, 3, 7, 6, 8]\n",
      "1\n",
      "2\n",
      "6\n",
      "24\n",
      "48\n",
      "144\n",
      "576\n",
      "2880\n",
      "17280\n",
      "51840\n",
      "207360\n",
      "1036800\n",
      "6220800\n",
      "43545600\n",
      "1959552000\n",
      "7838208000\n",
      "39191040000\n",
      "901393920000\n",
      "2704181760000\n",
      "18929272320000\n",
      "113575633920000\n",
      "908605071360000\n"
     ]
    }
   ],
   "source": [
    "#q14 : Try to find out multiplication of all numeric value inside dataset\n",
    "\n",
    "l12=[]\n",
    "for i in l7:\n",
    "    if type(i)==int:\n",
    "        l12.append(i)\n",
    "print(l12)\n",
    "\n",
    "mult=1\n",
    "for j in l12:\n",
    "    mult=mult*j\n",
    "    print(mult)"
   ]
  },
  {
   "cell_type": "code",
   "execution_count": 46,
   "id": "bd59ad6e",
   "metadata": {},
   "outputs": [
    {
     "name": "stdout",
     "output_type": "stream",
     "text": [
      "908605071360000\n"
     ]
    }
   ],
   "source": [
    "j = 1\n",
    "for i in l7 : \n",
    "    if type(i) == int :\n",
    "        j = j*i\n",
    "print(j)"
   ]
  },
  {
   "cell_type": "markdown",
   "id": "388de6f5",
   "metadata": {},
   "source": [
    "# Ask for m value 1 removal in doubt session?"
   ]
  },
  {
   "cell_type": "code",
   "execution_count": 47,
   "id": "e3640b76",
   "metadata": {},
   "outputs": [
    {
     "name": "stdout",
     "output_type": "stream",
     "text": [
      "<class 'list'> 24\n",
      "<class 'tuple'> 720\n",
      "<class 'tuple'> 2520\n",
      "<class 'set'> 20700\n",
      "<class 'dict'> 1008\n",
      "<class 'list'> 1\n"
     ]
    }
   ],
   "source": [
    "#q14 : Try to find out multiplication of all numeric value in the individual collection inside dataset\n",
    "\n",
    "for i in l :\n",
    "    m = 1\n",
    "    if type(i) == list  or type(i)  == tuple or type(i) == set :\n",
    "        for j in i :\n",
    "            if type(j) == int :\n",
    "                m = m * j\n",
    "        print(type(i) , m)\n",
    "    if type(i) == dict:\n",
    "        for k in i.items():\n",
    "            for n in k :\n",
    "                if type(n) == int : \n",
    "                    m = m * n\n",
    "        print(type(i) , m) "
   ]
  },
  {
   "cell_type": "code",
   "execution_count": 18,
   "id": "a52e47d9",
   "metadata": {},
   "outputs": [
    {
     "name": "stdout",
     "output_type": "stream",
     "text": [
      "[1, 2, 3, 4, 2, 3, 4, 5, 6, 3, 4, 5, 6, 7, 45, 4, 5, 23, 'k1', 'k2', 'k3', 3, 7, 'sudh', 'ineuron', 'kumar', 6, 8, 'ineuron', 'data science ']\n"
     ]
    }
   ],
   "source": [
    "#q15 : Try to unwrape all the collection inside collection and create a flat list\n",
    "\n",
    "l14=[]\n",
    "for i in l:\n",
    "    for j in i:\n",
    "        l14.append(j)\n",
    "    if type(i)==dict:\n",
    "        for k in i.values():\n",
    "            l14.append(k)\n",
    "print(l14)"
   ]
  }
 ],
 "metadata": {
  "kernelspec": {
   "display_name": "Python 3 (ipykernel)",
   "language": "python",
   "name": "python3"
  },
  "language_info": {
   "codemirror_mode": {
    "name": "ipython",
    "version": 3
   },
   "file_extension": ".py",
   "mimetype": "text/x-python",
   "name": "python",
   "nbconvert_exporter": "python",
   "pygments_lexer": "ipython3",
   "version": "3.10.9"
  }
 },
 "nbformat": 4,
 "nbformat_minor": 5
}
