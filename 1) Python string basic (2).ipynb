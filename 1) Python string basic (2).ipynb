{
 "cells": [
  {
   "cell_type": "code",
   "execution_count": 38,
   "id": "f7dad1e5",
   "metadata": {},
   "outputs": [],
   "source": [
    "s = \"this is My First Python programming class and i am learNING python string and its function\""
   ]
  },
  {
   "cell_type": "code",
   "execution_count": 39,
   "id": "fe47d49a",
   "metadata": {},
   "outputs": [
    {
     "data": {
      "text/plain": [
       "'h   r tnrrmglsnimeNGyosi dtfco'"
      ]
     },
     "execution_count": 39,
     "metadata": {},
     "output_type": "execute_result"
    }
   ],
   "source": [
    "#1. Try to extract data from index one to index 300 with a jump of 3 \n",
    "\n",
    "s[1:301:3]"
   ]
  },
  {
   "cell_type": "code",
   "execution_count": 40,
   "id": "db24b9a6",
   "metadata": {},
   "outputs": [
    {
     "data": {
      "text/plain": [
       "'noitcnuf sti dna gnirts nohtyp GNINrael ma i dna ssalc gnimmargorp nohtyP tsriF yM si siht'"
      ]
     },
     "execution_count": 40,
     "metadata": {},
     "output_type": "execute_result"
    }
   ],
   "source": [
    "#2. Try to reverse a string without using reverse function\n",
    "\n",
    "s[::-1]"
   ]
  },
  {
   "cell_type": "markdown",
   "id": "1f0aa25a",
   "metadata": {},
   "source": [
    "# m=reversed(s)\n",
    "print(m)\n",
    "s"
   ]
  },
  {
   "cell_type": "code",
   "execution_count": 43,
   "id": "405a7b58",
   "metadata": {},
   "outputs": [
    {
     "data": {
      "text/plain": [
       "['THIS',\n",
       " 'IS',\n",
       " 'MY',\n",
       " 'FIRST',\n",
       " 'PYTHON',\n",
       " 'PROGRAMMING',\n",
       " 'CLASS',\n",
       " 'AND',\n",
       " 'I',\n",
       " 'AM',\n",
       " 'LEARNING',\n",
       " 'PYTHON',\n",
       " 'STRING',\n",
       " 'AND',\n",
       " 'ITS',\n",
       " 'FUNCTION']"
      ]
     },
     "execution_count": 43,
     "metadata": {},
     "output_type": "execute_result"
    }
   ],
   "source": [
    "#3. Try to split a string after conversion of entire string in uppercase\n",
    "\n",
    "s_uppercase=s.upper()\n",
    "s_split=s_uppercase.split()\n",
    "s_split"
   ]
  },
  {
   "cell_type": "code",
   "execution_count": 20,
   "id": "e4993809",
   "metadata": {},
   "outputs": [
    {
     "data": {
      "text/plain": [
       "'this is my first python programming class and i am learning python string and its function'"
      ]
     },
     "execution_count": 20,
     "metadata": {},
     "output_type": "execute_result"
    }
   ],
   "source": [
    "#4. Try to convert the whole string into lower case\n",
    "\n",
    "s.lower()"
   ]
  },
  {
   "cell_type": "code",
   "execution_count": 21,
   "id": "ba8c70fc",
   "metadata": {},
   "outputs": [
    {
     "data": {
      "text/plain": [
       "'This is my first python programming class and i am learning python string and its function'"
      ]
     },
     "execution_count": 21,
     "metadata": {},
     "output_type": "execute_result"
    }
   ],
   "source": [
    "#5. Try to capitalize the whole string\n",
    "\n",
    "s.capitalize()"
   ]
  },
  {
   "cell_type": "code",
   "execution_count": 22,
   "id": "d4be94c5",
   "metadata": {},
   "outputs": [
    {
     "name": "stdout",
     "output_type": "stream",
     "text": [
      "True\n",
      "False\n",
      "True\n",
      "False\n"
     ]
    }
   ],
   "source": [
    "#6. Write a difference between isalnum() and isalpha()\n",
    "\n",
    "s = \"Hello123\"\n",
    "print(s.isalnum())  # Output: True\n",
    "\n",
    "s = \"Hello, World!\"\n",
    "print(s.isalnum())  # Output: False\n",
    "\n",
    "s = \"Hello\"\n",
    "print(s.isalpha())  # Output: True\n",
    "\n",
    "s = \"Hello123\"\n",
    "print(s.isalpha())  # Output: False"
   ]
  },
  {
   "cell_type": "code",
   "execution_count": 47,
   "id": "b6b495b8",
   "metadata": {},
   "outputs": [
    {
     "name": "stdout",
     "output_type": "stream",
     "text": [
      "Hello   World   Python\n"
     ]
    }
   ],
   "source": [
    "#7. Try to give an example of expand tab\n",
    "\n",
    "s = \"Hello\\tWorld\\tPython\"\n",
    "\n",
    "expanded_s = s.expandtabs()\n",
    "print(expanded_s)"
   ]
  },
  {
   "cell_type": "code",
   "execution_count": 66,
   "id": "d63e5b9d",
   "metadata": {},
   "outputs": [
    {
     "name": "stdout",
     "output_type": "stream",
     "text": [
      "Hello, World!\n",
      "Hello, World!   \n"
     ]
    },
    {
     "data": {
      "text/plain": [
       "'   Hello, World!'"
      ]
     },
     "execution_count": 66,
     "metadata": {},
     "output_type": "execute_result"
    }
   ],
   "source": [
    "#8. Give an example of strip, lstrip and rstrip \n",
    "\n",
    "s = \"   Hello, World!   \"\n",
    "\n",
    "# Strip leading and trailing whitespace\n",
    "stripped = s.strip()\n",
    "print(stripped)  # Output: \"Hello, World!\"\n",
    "\n",
    "# Left-strip leading whitespace\n",
    "lstripped = s.lstrip()\n",
    "print(lstripped)  # Output: \"Hello, World!   \"\n",
    "\n",
    "# Right-strip trailing whitespace\n",
    "rstripped = s.rstrip()\n",
    "rstripped  # Output: \"   Hello, World!\""
   ]
  },
  {
   "cell_type": "code",
   "execution_count": 54,
   "id": "f6cf7e9e",
   "metadata": {},
   "outputs": [
    {
     "name": "stdout",
     "output_type": "stream",
     "text": [
      "HellX, WXrld!\n"
     ]
    }
   ],
   "source": [
    "#9.  Replace a string charecter by another charector by taking your own example \n",
    "\n",
    "s = \"Hello, World!\"\n",
    "replaced = s.replace(\"o\", \"X\")\n",
    "print(replaced)"
   ]
  },
  {
   "cell_type": "code",
   "execution_count": 67,
   "id": "670bee84",
   "metadata": {},
   "outputs": [
    {
     "data": {
      "text/plain": [
       "'--Helloo--'"
      ]
     },
     "execution_count": 67,
     "metadata": {},
     "output_type": "execute_result"
    }
   ],
   "source": [
    "#10. Try to give a definition of string center function with an example\n",
    "\n",
    "'''The center() function takes one argument, which is the width of the resulting centered string. \n",
    "It calculates the amount of padding required on both sides of the original string to achieve the specified width. \n",
    "If the required padding is an odd number, an extra space is added to the left side.'''\n",
    "\n",
    "s = \"Helloo\"\n",
    "s.center(10, '-')"
   ]
  },
  {
   "cell_type": "code",
   "execution_count": 64,
   "id": "b979006d",
   "metadata": {},
   "outputs": [],
   "source": [
    "#11. Write your own definition of compiler and interpretor without copy paste form internet in your own language\n",
    "\n",
    "Compiler:\n",
    "A compiler is a software tool that translates high-level programming code, written in a specific programming language, \n",
    "into a lower-level representation or machine code. It performs a series of complex processes, such as lexical analysis, \n",
    "syntax analysis, semantic analysis, optimization, and code generation. \n",
    "The resulting compiled code is typically executed independently of the compiler, \n",
    "providing better performance and efficiency. A compiler converts the entire source code into an executable file, \n",
    "which can be run directly on the target system without the need for the original source code.\n",
    "\n",
    "Interpreter:\n",
    "An interpreter is a software program that directly executes high-level programming code, line by line, \n",
    "without the need for prior compilation. It reads the source code, interprets each statement or instruction, \n",
    "and executes it immediately. The interpreter performs a sequence of tasks, including lexical analysis, parsing, \n",
    "and execution, all in real-time. It interprets and executes the code interactively, which means that errors \n",
    "or issues are usually detected and reported during runtime. Unlike a compiler, an interpreter does \n",
    "not generate a separate executable file, and the source code is required each time the program is run.\n",
    "\n",
    "In summary, a compiler translates high-level code into machine code before execution, generating an independent \n",
    "executable file. On the other hand, an interpreter directly executes the source code without prior compilation, \n",
    "performing the interpretation and execution steps in real-time. Both compiler and interpreter are essential tools \n",
    "in the field of programming and enable the execution of high-level programming languages on different platforms.\n"
   ]
  },
  {
   "cell_type": "code",
   "execution_count": null,
   "id": "82c567c6",
   "metadata": {},
   "outputs": [],
   "source": [
    "#12. Python is an interpreted or compiled language give a clear answer with your understanding\n",
    "\n",
    "Python is an interpreted language. When you run Python code, it is executed by the Python interpreter line by line, \n",
    "without a separate compilation step beforehand. The Python interpreter reads the source code, interprets each \n",
    "statement, and executes it immediately.\n",
    "\n",
    "However, it's important to note that Python does include a compilation step as well. When you import a module \n",
    "or run a Python script, the Python interpreter first compiles the source code into bytecode. The bytecode is \n",
    "a lower-level representation of the code that is platform-independent. This bytecode is then interpreted and \n",
    "executed by the Python interpreter.\n",
    "\n",
    "So, in Python, the source code is compiled into bytecode, and the bytecode is then interpreted by the Python \n",
    "interpreter. This hybrid approach combines elements of both compilation and interpretation. Python is often \n",
    "referred to as an interpreted language due to its emphasis on the interpreter's role in executing the code."
   ]
  },
  {
   "cell_type": "code",
   "execution_count": null,
   "id": "4ea8bf53",
   "metadata": {},
   "outputs": [],
   "source": [
    "#13. Try to write a usecase of python with your understanding\n",
    "\n",
    "Use Case: Data Analysis and Visualization\n",
    "\n",
    "Python is widely used for data analysis and visualization tasks due to its rich ecosystem of libraries and tools. \n",
    "Let's consider a use case where Python is used to analyze and visualize sales data for a retail company.\n",
    "\n",
    "    Data Collection and Preparation:\n",
    "    Python can be used to collect sales data from various sources such as databases, spreadsheets, or APIs. \n",
    "    Libraries like pandas can be employed to clean, transform, and prepare the data for analysis.\n",
    "\n",
    "    Data Analysis:\n",
    "    Python offers libraries such as pandas, NumPy, and scikit-learn, which provide powerful tools for data analysis. \n",
    "    The data can be explored, filtered, aggregated, and analyzed to gain insights and make data-driven decisions. \n",
    "    Statistical analysis, machine learning, and predictive modeling techniques can be applied using Python's libraries.\n",
    "\n",
    "    Data Visualization:\n",
    "    Python has libraries like Matplotlib, Seaborn, and Plotly, which enable the creation of visually appealing \n",
    "    and informative data visualizations. These libraries offer a wide range of chart types, including bar plots, \n",
    "    line plots, pie charts, and heatmaps. Visualizations can help identify patterns, trends, and outliers in \n",
    "    the sales data.\n",
    "\n",
    "    Reporting and Dashboards:\n",
    "    Python can be used to generate reports and interactive dashboards for sharing insights with stakeholders. \n",
    "    Libraries like Jupyter Notebook or JupyterLab allow combining code, visualizations, and explanatory text \n",
    "    in a single document. Web frameworks like Dash or Flask can be utilized to create interactive web-based dashboards.\n",
    "\n",
    "    Automation and Efficiency:\n",
    "    Python's scripting capabilities can automate repetitive tasks, such as data cleaning, analysis, and visualization. \n",
    "    By writing scripts, you can streamline and standardize the data analysis workflow, saving time and effort."
   ]
  }
 ],
 "metadata": {
  "kernelspec": {
   "display_name": "Python 3 (ipykernel)",
   "language": "python",
   "name": "python3"
  },
  "language_info": {
   "codemirror_mode": {
    "name": "ipython",
    "version": 3
   },
   "file_extension": ".py",
   "mimetype": "text/x-python",
   "name": "python",
   "nbconvert_exporter": "python",
   "pygments_lexer": "ipython3",
   "version": "3.10.9"
  }
 },
 "nbformat": 4,
 "nbformat_minor": 5
}
